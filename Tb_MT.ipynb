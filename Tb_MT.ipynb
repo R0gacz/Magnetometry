{
 "cells": [
  {
   "cell_type": "code",
   "execution_count": null,
   "metadata": {},
   "outputs": [],
   "source": []
  },
  {
   "cell_type": "code",
   "execution_count": null,
   "metadata": {},
   "outputs": [],
   "source": [
    "T_realK_MT = MT_Tb[\"TrealK\"] # TrealK - Temperatura próbki w K.\n",
    "HmT_mi0_MT = MT_Tb[\"mi0HmT\"] # mi0HmT - natężenie pola magnetycznego pomnożone przez μ0. μ0H (mT). \n",
    "sH_MT = MT_Tb[\"sH\"] # sH - niepewność mi0HmT. \n",
    "M_emu_MT = MT_Tb[\"Memu\"] # Memu - namagnesowanie w emu. \n",
    "sM_emu__MT = MT_Tb[\"sMemu\"] # sMemu - niepewność namagnesowania.\n",
    "\n"
   ]
  }
 ],
 "metadata": {
  "language_info": {
   "name": "python"
  },
  "orig_nbformat": 4
 },
 "nbformat": 4,
 "nbformat_minor": 2
}
